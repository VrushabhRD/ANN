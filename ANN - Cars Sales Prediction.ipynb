{
 "cells": [
  {
   "cell_type": "markdown",
   "id": "2cb3e434",
   "metadata": {},
   "source": [
    "#### Sales prediction involves forecasting the amount of a product that customers will purchase, taking into account various factors such as advertising expenditure, target audience segmentation, and advertising platform selection."
   ]
  },
  {
   "cell_type": "markdown",
   "id": "5f7a2547",
   "metadata": {},
   "source": [
    "# Table of Content"
   ]
  },
  {
   "cell_type": "markdown",
   "id": "a7a07afc",
   "metadata": {},
   "source": [
    "Customer Name"
   ]
  },
  {
   "cell_type": "markdown",
   "id": "f2e57484",
   "metadata": {},
   "source": [
    "Customer e-mail"
   ]
  },
  {
   "cell_type": "markdown",
   "id": "02af242f",
   "metadata": {},
   "source": [
    "Country"
   ]
  },
  {
   "cell_type": "markdown",
   "id": "8d2a741b",
   "metadata": {},
   "source": [
    "Gender"
   ]
  },
  {
   "cell_type": "markdown",
   "id": "a181a90e",
   "metadata": {},
   "source": [
    "Age"
   ]
  },
  {
   "cell_type": "markdown",
   "id": "9faa59c2",
   "metadata": {},
   "source": [
    "Annual Salary"
   ]
  },
  {
   "cell_type": "markdown",
   "id": "a9bc2b67",
   "metadata": {},
   "source": [
    "Credit Card Debt"
   ]
  },
  {
   "cell_type": "markdown",
   "id": "90152c47",
   "metadata": {},
   "source": [
    "Net Worth"
   ]
  },
  {
   "cell_type": "markdown",
   "id": "5665bb7b",
   "metadata": {},
   "source": [
    "# Importing Libraries "
   ]
  },
  {
   "cell_type": "code",
   "execution_count": 9,
   "id": "8df471c6",
   "metadata": {},
   "outputs": [],
   "source": [
    "import numpy as np\n",
    "import pandas as pd\n",
    "import matplotlib.pyplot as plt\n",
    "import plotly.express as px\n",
    "from plotly.offline import init_notebook_mode, iplot, plot\n",
    "from sklearn.preprocessing import MinMaxScaler\n",
    "\n",
    "from tensorflow.keras.layers import Dense\n",
    "from tensorflow.keras.models import Sequential\n",
    "from sklearn.model_selection import train_test_split\n",
    "\n",
    "import warnings\n",
    "warnings.filterwarnings(\"ignore\")"
   ]
  },
  {
   "cell_type": "markdown",
   "id": "0cd28445",
   "metadata": {},
   "source": [
    "# Loading Data"
   ]
  },
  {
   "cell_type": "code",
   "execution_count": 11,
   "id": "cb622ef1",
   "metadata": {},
   "outputs": [
    {
     "data": {
      "text/html": [
       "<div>\n",
       "<style scoped>\n",
       "    .dataframe tbody tr th:only-of-type {\n",
       "        vertical-align: middle;\n",
       "    }\n",
       "\n",
       "    .dataframe tbody tr th {\n",
       "        vertical-align: top;\n",
       "    }\n",
       "\n",
       "    .dataframe thead th {\n",
       "        text-align: right;\n",
       "    }\n",
       "</style>\n",
       "<table border=\"1\" class=\"dataframe\">\n",
       "  <thead>\n",
       "    <tr style=\"text-align: right;\">\n",
       "      <th></th>\n",
       "      <th>customer name</th>\n",
       "      <th>customer e-mail</th>\n",
       "      <th>country</th>\n",
       "      <th>gender</th>\n",
       "      <th>age</th>\n",
       "      <th>annual Salary</th>\n",
       "      <th>credit card debt</th>\n",
       "      <th>net worth</th>\n",
       "      <th>car purchase amount</th>\n",
       "    </tr>\n",
       "  </thead>\n",
       "  <tbody>\n",
       "    <tr>\n",
       "      <th>0</th>\n",
       "      <td>Martina Avila</td>\n",
       "      <td>cubilia.Curae.Phasellus@quisaccumsanconvallis.edu</td>\n",
       "      <td>Bulgaria</td>\n",
       "      <td>0</td>\n",
       "      <td>41.851720</td>\n",
       "      <td>62812.09301</td>\n",
       "      <td>11609.380910</td>\n",
       "      <td>238961.2505</td>\n",
       "      <td>35321.45877</td>\n",
       "    </tr>\n",
       "    <tr>\n",
       "      <th>1</th>\n",
       "      <td>Harlan Barnes</td>\n",
       "      <td>eu.dolor@diam.co.uk</td>\n",
       "      <td>Belize</td>\n",
       "      <td>0</td>\n",
       "      <td>40.870623</td>\n",
       "      <td>66646.89292</td>\n",
       "      <td>9572.957136</td>\n",
       "      <td>530973.9078</td>\n",
       "      <td>45115.52566</td>\n",
       "    </tr>\n",
       "    <tr>\n",
       "      <th>2</th>\n",
       "      <td>Naomi Rodriquez</td>\n",
       "      <td>vulputate.mauris.sagittis@ametconsectetueradip...</td>\n",
       "      <td>Algeria</td>\n",
       "      <td>1</td>\n",
       "      <td>43.152897</td>\n",
       "      <td>53798.55112</td>\n",
       "      <td>11160.355060</td>\n",
       "      <td>638467.1773</td>\n",
       "      <td>42925.70921</td>\n",
       "    </tr>\n",
       "    <tr>\n",
       "      <th>3</th>\n",
       "      <td>Jade Cunningham</td>\n",
       "      <td>malesuada@dignissim.com</td>\n",
       "      <td>Cook Islands</td>\n",
       "      <td>1</td>\n",
       "      <td>58.271369</td>\n",
       "      <td>79370.03798</td>\n",
       "      <td>14426.164850</td>\n",
       "      <td>548599.0524</td>\n",
       "      <td>67422.36313</td>\n",
       "    </tr>\n",
       "    <tr>\n",
       "      <th>4</th>\n",
       "      <td>Cedric Leach</td>\n",
       "      <td>felis.ullamcorper.viverra@egetmollislectus.net</td>\n",
       "      <td>Brazil</td>\n",
       "      <td>1</td>\n",
       "      <td>57.313749</td>\n",
       "      <td>59729.15130</td>\n",
       "      <td>5358.712177</td>\n",
       "      <td>560304.0671</td>\n",
       "      <td>55915.46248</td>\n",
       "    </tr>\n",
       "  </tbody>\n",
       "</table>\n",
       "</div>"
      ],
      "text/plain": [
       "     customer name                                    customer e-mail  \\\n",
       "0    Martina Avila  cubilia.Curae.Phasellus@quisaccumsanconvallis.edu   \n",
       "1    Harlan Barnes                                eu.dolor@diam.co.uk   \n",
       "2  Naomi Rodriquez  vulputate.mauris.sagittis@ametconsectetueradip...   \n",
       "3  Jade Cunningham                            malesuada@dignissim.com   \n",
       "4     Cedric Leach     felis.ullamcorper.viverra@egetmollislectus.net   \n",
       "\n",
       "        country  gender        age  annual Salary  credit card debt  \\\n",
       "0      Bulgaria       0  41.851720    62812.09301      11609.380910   \n",
       "1        Belize       0  40.870623    66646.89292       9572.957136   \n",
       "2       Algeria       1  43.152897    53798.55112      11160.355060   \n",
       "3  Cook Islands       1  58.271369    79370.03798      14426.164850   \n",
       "4        Brazil       1  57.313749    59729.15130       5358.712177   \n",
       "\n",
       "     net worth  car purchase amount  \n",
       "0  238961.2505          35321.45877  \n",
       "1  530973.9078          45115.52566  \n",
       "2  638467.1773          42925.70921  \n",
       "3  548599.0524          67422.36313  \n",
       "4  560304.0671          55915.46248  "
      ]
     },
     "execution_count": 11,
     "metadata": {},
     "output_type": "execute_result"
    }
   ],
   "source": [
    "df = data = pd.read_csv(\"Car Sales Prediction.csv\",encoding='ISO-8859-1')\n",
    "df.head()"
   ]
  },
  {
   "cell_type": "markdown",
   "id": "cb49f8e1",
   "metadata": {},
   "source": [
    "# Data Information and Data Cleaning "
   ]
  },
  {
   "cell_type": "code",
   "execution_count": 12,
   "id": "d57f18b6",
   "metadata": {},
   "outputs": [
    {
     "data": {
      "text/plain": [
       "(500, 9)"
      ]
     },
     "execution_count": 12,
     "metadata": {},
     "output_type": "execute_result"
    }
   ],
   "source": [
    "df.shape"
   ]
  },
  {
   "cell_type": "code",
   "execution_count": 15,
   "id": "c890d8e5",
   "metadata": {},
   "outputs": [
    {
     "data": {
      "text/plain": [
       "Index(['customer name', 'customer e-mail', 'country', 'gender', 'age',\n",
       "       'annual Salary', 'credit card debt', 'net worth',\n",
       "       'car purchase amount'],\n",
       "      dtype='object')"
      ]
     },
     "execution_count": 15,
     "metadata": {},
     "output_type": "execute_result"
    }
   ],
   "source": [
    "df.columns"
   ]
  },
  {
   "cell_type": "code",
   "execution_count": 16,
   "id": "82fd2de3",
   "metadata": {},
   "outputs": [
    {
     "data": {
      "text/html": [
       "<div>\n",
       "<style scoped>\n",
       "    .dataframe tbody tr th:only-of-type {\n",
       "        vertical-align: middle;\n",
       "    }\n",
       "\n",
       "    .dataframe tbody tr th {\n",
       "        vertical-align: top;\n",
       "    }\n",
       "\n",
       "    .dataframe thead th {\n",
       "        text-align: right;\n",
       "    }\n",
       "</style>\n",
       "<table border=\"1\" class=\"dataframe\">\n",
       "  <thead>\n",
       "    <tr style=\"text-align: right;\">\n",
       "      <th></th>\n",
       "      <th>customer name</th>\n",
       "      <th>customer e-mail</th>\n",
       "      <th>country</th>\n",
       "      <th>gender</th>\n",
       "      <th>age</th>\n",
       "      <th>annual Salary</th>\n",
       "      <th>credit card debt</th>\n",
       "      <th>net worth</th>\n",
       "      <th>car purchase amount</th>\n",
       "    </tr>\n",
       "  </thead>\n",
       "  <tbody>\n",
       "    <tr>\n",
       "      <th>0</th>\n",
       "      <td>Martina Avila</td>\n",
       "      <td>cubilia.Curae.Phasellus@quisaccumsanconvallis.edu</td>\n",
       "      <td>Bulgaria</td>\n",
       "      <td>0</td>\n",
       "      <td>41.851720</td>\n",
       "      <td>62812.09301</td>\n",
       "      <td>11609.380910</td>\n",
       "      <td>238961.2505</td>\n",
       "      <td>35321.45877</td>\n",
       "    </tr>\n",
       "    <tr>\n",
       "      <th>1</th>\n",
       "      <td>Harlan Barnes</td>\n",
       "      <td>eu.dolor@diam.co.uk</td>\n",
       "      <td>Belize</td>\n",
       "      <td>0</td>\n",
       "      <td>40.870623</td>\n",
       "      <td>66646.89292</td>\n",
       "      <td>9572.957136</td>\n",
       "      <td>530973.9078</td>\n",
       "      <td>45115.52566</td>\n",
       "    </tr>\n",
       "    <tr>\n",
       "      <th>2</th>\n",
       "      <td>Naomi Rodriquez</td>\n",
       "      <td>vulputate.mauris.sagittis@ametconsectetueradip...</td>\n",
       "      <td>Algeria</td>\n",
       "      <td>1</td>\n",
       "      <td>43.152897</td>\n",
       "      <td>53798.55112</td>\n",
       "      <td>11160.355060</td>\n",
       "      <td>638467.1773</td>\n",
       "      <td>42925.70921</td>\n",
       "    </tr>\n",
       "    <tr>\n",
       "      <th>3</th>\n",
       "      <td>Jade Cunningham</td>\n",
       "      <td>malesuada@dignissim.com</td>\n",
       "      <td>Cook Islands</td>\n",
       "      <td>1</td>\n",
       "      <td>58.271369</td>\n",
       "      <td>79370.03798</td>\n",
       "      <td>14426.164850</td>\n",
       "      <td>548599.0524</td>\n",
       "      <td>67422.36313</td>\n",
       "    </tr>\n",
       "    <tr>\n",
       "      <th>4</th>\n",
       "      <td>Cedric Leach</td>\n",
       "      <td>felis.ullamcorper.viverra@egetmollislectus.net</td>\n",
       "      <td>Brazil</td>\n",
       "      <td>1</td>\n",
       "      <td>57.313749</td>\n",
       "      <td>59729.15130</td>\n",
       "      <td>5358.712177</td>\n",
       "      <td>560304.0671</td>\n",
       "      <td>55915.46248</td>\n",
       "    </tr>\n",
       "  </tbody>\n",
       "</table>\n",
       "</div>"
      ],
      "text/plain": [
       "     customer name                                    customer e-mail  \\\n",
       "0    Martina Avila  cubilia.Curae.Phasellus@quisaccumsanconvallis.edu   \n",
       "1    Harlan Barnes                                eu.dolor@diam.co.uk   \n",
       "2  Naomi Rodriquez  vulputate.mauris.sagittis@ametconsectetueradip...   \n",
       "3  Jade Cunningham                            malesuada@dignissim.com   \n",
       "4     Cedric Leach     felis.ullamcorper.viverra@egetmollislectus.net   \n",
       "\n",
       "        country  gender        age  annual Salary  credit card debt  \\\n",
       "0      Bulgaria       0  41.851720    62812.09301      11609.380910   \n",
       "1        Belize       0  40.870623    66646.89292       9572.957136   \n",
       "2       Algeria       1  43.152897    53798.55112      11160.355060   \n",
       "3  Cook Islands       1  58.271369    79370.03798      14426.164850   \n",
       "4        Brazil       1  57.313749    59729.15130       5358.712177   \n",
       "\n",
       "     net worth  car purchase amount  \n",
       "0  238961.2505          35321.45877  \n",
       "1  530973.9078          45115.52566  \n",
       "2  638467.1773          42925.70921  \n",
       "3  548599.0524          67422.36313  \n",
       "4  560304.0671          55915.46248  "
      ]
     },
     "execution_count": 16,
     "metadata": {},
     "output_type": "execute_result"
    }
   ],
   "source": [
    "df.head()"
   ]
  },
  {
   "cell_type": "code",
   "execution_count": 17,
   "id": "e30dbdd5",
   "metadata": {},
   "outputs": [],
   "source": [
    "df.drop(columns=['customer name', 'customer e-mail', 'country'], inplace=True)"
   ]
  },
  {
   "cell_type": "code",
   "execution_count": 18,
   "id": "8e9eb70d",
   "metadata": {},
   "outputs": [],
   "source": [
    "df.dropna(subset=['gender'], inplace = True)"
   ]
  },
  {
   "cell_type": "markdown",
   "id": "b9e945e3",
   "metadata": {},
   "source": [
    "# Building Model"
   ]
  },
  {
   "cell_type": "code",
   "execution_count": 20,
   "id": "e1ccbd9f",
   "metadata": {},
   "outputs": [],
   "source": [
    "X = df.drop('car purchase amount', axis=1)\n",
    "y = df['car purchase amount']"
   ]
  },
  {
   "cell_type": "code",
   "execution_count": 21,
   "id": "b9f6862d",
   "metadata": {},
   "outputs": [],
   "source": [
    "scaler = MinMaxScaler()\n",
    "X = scaler.fit_transform(X)\n",
    "y = scaler.fit_transform(y.values.reshape(-1, 1))"
   ]
  },
  {
   "cell_type": "code",
   "execution_count": 22,
   "id": "ba23f8b6",
   "metadata": {},
   "outputs": [
    {
     "name": "stdout",
     "output_type": "stream",
     "text": [
      "(400, 5)\n",
      "(400, 1)\n",
      "(100, 5)\n",
      "(100, 1)\n"
     ]
    }
   ],
   "source": [
    "X_train, X_test, y_train, y_test = train_test_split(X, y, test_size=0.2, random_state=0)\n",
    "\n",
    "print(X_train.shape)\n",
    "print(y_train.shape)\n",
    "print(X_test.shape)\n",
    "print(y_test.shape)"
   ]
  },
  {
   "cell_type": "code",
   "execution_count": 23,
   "id": "798997b3",
   "metadata": {},
   "outputs": [
    {
     "name": "stdout",
     "output_type": "stream",
     "text": [
      "WARNING:tensorflow:From C:\\Users\\dvrus\\anaconda3\\lib\\site-packages\\keras\\src\\backend.py:873: The name tf.get_default_graph is deprecated. Please use tf.compat.v1.get_default_graph instead.\n",
      "\n",
      "WARNING:tensorflow:From C:\\Users\\dvrus\\anaconda3\\lib\\site-packages\\keras\\src\\optimizers\\__init__.py:309: The name tf.train.Optimizer is deprecated. Please use tf.compat.v1.train.Optimizer instead.\n",
      "\n",
      "Model: \"sequential\"\n",
      "_________________________________________________________________\n",
      " Layer (type)                Output Shape              Param #   \n",
      "=================================================================\n",
      " dense (Dense)               (None, 10)                60        \n",
      "                                                                 \n",
      " dense_1 (Dense)             (None, 10)                110       \n",
      "                                                                 \n",
      " dense_2 (Dense)             (None, 1)                 11        \n",
      "                                                                 \n",
      "=================================================================\n",
      "Total params: 181 (724.00 Byte)\n",
      "Trainable params: 181 (724.00 Byte)\n",
      "Non-trainable params: 0 (0.00 Byte)\n",
      "_________________________________________________________________\n"
     ]
    }
   ],
   "source": [
    "model = Sequential()\n",
    "model.add(Dense(10, activation='relu', input_dim=5))\n",
    "model.add(Dense(10, activation='relu'))\n",
    "model.add(Dense(1, activation='linear'))\n",
    "\n",
    "model.compile(optimizer='adam', loss='mean_squared_error', metrics=['mean_absolute_error'])\n",
    "model.summary()"
   ]
  },
  {
   "cell_type": "code",
   "execution_count": 24,
   "id": "6825e107",
   "metadata": {},
   "outputs": [
    {
     "name": "stdout",
     "output_type": "stream",
     "text": [
      "Epoch 1/50\n",
      "WARNING:tensorflow:From C:\\Users\\dvrus\\anaconda3\\lib\\site-packages\\keras\\src\\utils\\tf_utils.py:492: The name tf.ragged.RaggedTensorValue is deprecated. Please use tf.compat.v1.ragged.RaggedTensorValue instead.\n",
      "\n",
      "WARNING:tensorflow:From C:\\Users\\dvrus\\anaconda3\\lib\\site-packages\\keras\\src\\engine\\base_layer_utils.py:384: The name tf.executing_eagerly_outside_functions is deprecated. Please use tf.compat.v1.executing_eagerly_outside_functions instead.\n",
      "\n",
      "10/10 [==============================] - 2s 40ms/step - loss: 0.1594 - mean_absolute_error: 0.3735 - val_loss: 0.1021 - val_mean_absolute_error: 0.2891\n",
      "Epoch 2/50\n",
      "10/10 [==============================] - 0s 10ms/step - loss: 0.0535 - mean_absolute_error: 0.1988 - val_loss: 0.0295 - val_mean_absolute_error: 0.1395\n",
      "Epoch 3/50\n",
      "10/10 [==============================] - 0s 8ms/step - loss: 0.0161 - mean_absolute_error: 0.1004 - val_loss: 0.0137 - val_mean_absolute_error: 0.0994\n",
      "Epoch 4/50\n",
      "10/10 [==============================] - 0s 8ms/step - loss: 0.0145 - mean_absolute_error: 0.0966 - val_loss: 0.0136 - val_mean_absolute_error: 0.0979\n",
      "Epoch 5/50\n",
      "10/10 [==============================] - 0s 11ms/step - loss: 0.0132 - mean_absolute_error: 0.0911 - val_loss: 0.0120 - val_mean_absolute_error: 0.0923\n",
      "Epoch 6/50\n",
      "10/10 [==============================] - 0s 9ms/step - loss: 0.0109 - mean_absolute_error: 0.0811 - val_loss: 0.0121 - val_mean_absolute_error: 0.0902\n",
      "Epoch 7/50\n",
      "10/10 [==============================] - 0s 9ms/step - loss: 0.0103 - mean_absolute_error: 0.0787 - val_loss: 0.0119 - val_mean_absolute_error: 0.0887\n",
      "Epoch 8/50\n",
      "10/10 [==============================] - 0s 10ms/step - loss: 0.0100 - mean_absolute_error: 0.0774 - val_loss: 0.0110 - val_mean_absolute_error: 0.0857\n",
      "Epoch 9/50\n",
      "10/10 [==============================] - 0s 11ms/step - loss: 0.0095 - mean_absolute_error: 0.0753 - val_loss: 0.0103 - val_mean_absolute_error: 0.0836\n",
      "Epoch 10/50\n",
      "10/10 [==============================] - 0s 9ms/step - loss: 0.0092 - mean_absolute_error: 0.0740 - val_loss: 0.0099 - val_mean_absolute_error: 0.0818\n",
      "Epoch 11/50\n",
      "10/10 [==============================] - 0s 11ms/step - loss: 0.0088 - mean_absolute_error: 0.0726 - val_loss: 0.0095 - val_mean_absolute_error: 0.0800\n",
      "Epoch 12/50\n",
      "10/10 [==============================] - 0s 9ms/step - loss: 0.0085 - mean_absolute_error: 0.0712 - val_loss: 0.0091 - val_mean_absolute_error: 0.0783\n",
      "Epoch 13/50\n",
      "10/10 [==============================] - 0s 11ms/step - loss: 0.0082 - mean_absolute_error: 0.0697 - val_loss: 0.0089 - val_mean_absolute_error: 0.0775\n",
      "Epoch 14/50\n",
      "10/10 [==============================] - 0s 10ms/step - loss: 0.0079 - mean_absolute_error: 0.0684 - val_loss: 0.0085 - val_mean_absolute_error: 0.0755\n",
      "Epoch 15/50\n",
      "10/10 [==============================] - 0s 10ms/step - loss: 0.0076 - mean_absolute_error: 0.0671 - val_loss: 0.0081 - val_mean_absolute_error: 0.0737\n",
      "Epoch 16/50\n",
      "10/10 [==============================] - 0s 11ms/step - loss: 0.0073 - mean_absolute_error: 0.0657 - val_loss: 0.0078 - val_mean_absolute_error: 0.0722\n",
      "Epoch 17/50\n",
      "10/10 [==============================] - 0s 11ms/step - loss: 0.0070 - mean_absolute_error: 0.0645 - val_loss: 0.0075 - val_mean_absolute_error: 0.0706\n",
      "Epoch 18/50\n",
      "10/10 [==============================] - 0s 13ms/step - loss: 0.0067 - mean_absolute_error: 0.0632 - val_loss: 0.0072 - val_mean_absolute_error: 0.0693\n",
      "Epoch 19/50\n",
      "10/10 [==============================] - 0s 26ms/step - loss: 0.0064 - mean_absolute_error: 0.0618 - val_loss: 0.0068 - val_mean_absolute_error: 0.0674\n",
      "Epoch 20/50\n",
      "10/10 [==============================] - 0s 14ms/step - loss: 0.0061 - mean_absolute_error: 0.0607 - val_loss: 0.0065 - val_mean_absolute_error: 0.0660\n",
      "Epoch 21/50\n",
      "10/10 [==============================] - 0s 12ms/step - loss: 0.0058 - mean_absolute_error: 0.0593 - val_loss: 0.0063 - val_mean_absolute_error: 0.0647\n",
      "Epoch 22/50\n",
      "10/10 [==============================] - 0s 16ms/step - loss: 0.0055 - mean_absolute_error: 0.0578 - val_loss: 0.0060 - val_mean_absolute_error: 0.0628\n",
      "Epoch 23/50\n",
      "10/10 [==============================] - 0s 13ms/step - loss: 0.0053 - mean_absolute_error: 0.0565 - val_loss: 0.0057 - val_mean_absolute_error: 0.0613\n",
      "Epoch 24/50\n",
      "10/10 [==============================] - 0s 13ms/step - loss: 0.0051 - mean_absolute_error: 0.0554 - val_loss: 0.0055 - val_mean_absolute_error: 0.0597\n",
      "Epoch 25/50\n",
      "10/10 [==============================] - 0s 14ms/step - loss: 0.0049 - mean_absolute_error: 0.0542 - val_loss: 0.0053 - val_mean_absolute_error: 0.0587\n",
      "Epoch 26/50\n",
      "10/10 [==============================] - 0s 15ms/step - loss: 0.0046 - mean_absolute_error: 0.0529 - val_loss: 0.0049 - val_mean_absolute_error: 0.0563\n",
      "Epoch 27/50\n",
      "10/10 [==============================] - 0s 12ms/step - loss: 0.0043 - mean_absolute_error: 0.0515 - val_loss: 0.0048 - val_mean_absolute_error: 0.0551\n",
      "Epoch 28/50\n",
      "10/10 [==============================] - 0s 11ms/step - loss: 0.0041 - mean_absolute_error: 0.0498 - val_loss: 0.0046 - val_mean_absolute_error: 0.0539\n",
      "Epoch 29/50\n",
      "10/10 [==============================] - 0s 10ms/step - loss: 0.0039 - mean_absolute_error: 0.0487 - val_loss: 0.0043 - val_mean_absolute_error: 0.0520\n",
      "Epoch 30/50\n",
      "10/10 [==============================] - 0s 10ms/step - loss: 0.0037 - mean_absolute_error: 0.0476 - val_loss: 0.0040 - val_mean_absolute_error: 0.0504\n",
      "Epoch 31/50\n",
      "10/10 [==============================] - 0s 8ms/step - loss: 0.0035 - mean_absolute_error: 0.0463 - val_loss: 0.0039 - val_mean_absolute_error: 0.0490\n",
      "Epoch 32/50\n",
      "10/10 [==============================] - 0s 8ms/step - loss: 0.0033 - mean_absolute_error: 0.0451 - val_loss: 0.0036 - val_mean_absolute_error: 0.0475\n",
      "Epoch 33/50\n",
      "10/10 [==============================] - 0s 9ms/step - loss: 0.0031 - mean_absolute_error: 0.0438 - val_loss: 0.0035 - val_mean_absolute_error: 0.0461\n",
      "Epoch 34/50\n",
      "10/10 [==============================] - 0s 8ms/step - loss: 0.0029 - mean_absolute_error: 0.0424 - val_loss: 0.0032 - val_mean_absolute_error: 0.0445\n",
      "Epoch 35/50\n",
      "10/10 [==============================] - 0s 8ms/step - loss: 0.0027 - mean_absolute_error: 0.0412 - val_loss: 0.0030 - val_mean_absolute_error: 0.0431\n",
      "Epoch 36/50\n",
      "10/10 [==============================] - 0s 8ms/step - loss: 0.0025 - mean_absolute_error: 0.0397 - val_loss: 0.0029 - val_mean_absolute_error: 0.0420\n",
      "Epoch 37/50\n",
      "10/10 [==============================] - 0s 9ms/step - loss: 0.0024 - mean_absolute_error: 0.0385 - val_loss: 0.0027 - val_mean_absolute_error: 0.0403\n",
      "Epoch 38/50\n",
      "10/10 [==============================] - 0s 8ms/step - loss: 0.0022 - mean_absolute_error: 0.0373 - val_loss: 0.0026 - val_mean_absolute_error: 0.0391\n",
      "Epoch 39/50\n",
      "10/10 [==============================] - 0s 8ms/step - loss: 0.0021 - mean_absolute_error: 0.0360 - val_loss: 0.0024 - val_mean_absolute_error: 0.0379\n",
      "Epoch 40/50\n",
      "10/10 [==============================] - 0s 8ms/step - loss: 0.0020 - mean_absolute_error: 0.0346 - val_loss: 0.0022 - val_mean_absolute_error: 0.0367\n",
      "Epoch 41/50\n",
      "10/10 [==============================] - 0s 7ms/step - loss: 0.0018 - mean_absolute_error: 0.0336 - val_loss: 0.0021 - val_mean_absolute_error: 0.0355\n",
      "Epoch 42/50\n",
      "10/10 [==============================] - 0s 7ms/step - loss: 0.0017 - mean_absolute_error: 0.0323 - val_loss: 0.0020 - val_mean_absolute_error: 0.0345\n",
      "Epoch 43/50\n",
      "10/10 [==============================] - 0s 8ms/step - loss: 0.0016 - mean_absolute_error: 0.0311 - val_loss: 0.0019 - val_mean_absolute_error: 0.0335\n",
      "Epoch 44/50\n",
      "10/10 [==============================] - 0s 10ms/step - loss: 0.0015 - mean_absolute_error: 0.0300 - val_loss: 0.0017 - val_mean_absolute_error: 0.0324\n",
      "Epoch 45/50\n",
      "10/10 [==============================] - 0s 8ms/step - loss: 0.0014 - mean_absolute_error: 0.0291 - val_loss: 0.0016 - val_mean_absolute_error: 0.0315\n",
      "Epoch 46/50\n",
      "10/10 [==============================] - 0s 9ms/step - loss: 0.0013 - mean_absolute_error: 0.0278 - val_loss: 0.0015 - val_mean_absolute_error: 0.0305\n",
      "Epoch 47/50\n",
      "10/10 [==============================] - 0s 9ms/step - loss: 0.0012 - mean_absolute_error: 0.0268 - val_loss: 0.0014 - val_mean_absolute_error: 0.0296\n",
      "Epoch 48/50\n"
     ]
    },
    {
     "name": "stdout",
     "output_type": "stream",
     "text": [
      "10/10 [==============================] - 0s 9ms/step - loss: 0.0011 - mean_absolute_error: 0.0258 - val_loss: 0.0014 - val_mean_absolute_error: 0.0286\n",
      "Epoch 49/50\n",
      "10/10 [==============================] - 0s 8ms/step - loss: 0.0010 - mean_absolute_error: 0.0248 - val_loss: 0.0013 - val_mean_absolute_error: 0.0278\n",
      "Epoch 50/50\n",
      "10/10 [==============================] - 0s 9ms/step - loss: 9.5965e-04 - mean_absolute_error: 0.0242 - val_loss: 0.0012 - val_mean_absolute_error: 0.0270\n"
     ]
    }
   ],
   "source": [
    "past = model.fit(X_train, y_train, epochs=50, validation_split=0.2)"
   ]
  },
  {
   "cell_type": "code",
   "execution_count": 25,
   "id": "c25a1c18",
   "metadata": {},
   "outputs": [
    {
     "name": "stdout",
     "output_type": "stream",
     "text": [
      "4/4 [==============================] - 0s 3ms/step\n"
     ]
    }
   ],
   "source": [
    "y_pred = model.predict(X_test)"
   ]
  },
  {
   "cell_type": "code",
   "execution_count": 26,
   "id": "4000a8e0",
   "metadata": {},
   "outputs": [
    {
     "name": "stdout",
     "output_type": "stream",
     "text": [
      "R2 Score= 0.9622779806025955\n"
     ]
    }
   ],
   "source": [
    "from sklearn.metrics import r2_score\n",
    "\n",
    "R2 = r2_score(y_test, y_pred)\n",
    "print(\"R2 Score=\",R2 )"
   ]
  },
  {
   "cell_type": "code",
   "execution_count": null,
   "id": "1e11830d",
   "metadata": {},
   "outputs": [],
   "source": []
  }
 ],
 "metadata": {
  "kernelspec": {
   "display_name": "Python 3 (ipykernel)",
   "language": "python",
   "name": "python3"
  },
  "language_info": {
   "codemirror_mode": {
    "name": "ipython",
    "version": 3
   },
   "file_extension": ".py",
   "mimetype": "text/x-python",
   "name": "python",
   "nbconvert_exporter": "python",
   "pygments_lexer": "ipython3",
   "version": "3.9.12"
  }
 },
 "nbformat": 4,
 "nbformat_minor": 5
}
